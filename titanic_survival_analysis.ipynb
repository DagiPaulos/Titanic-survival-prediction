{
 "cells": [
  {
   "cell_type": "code",
   "execution_count": 2,
   "metadata": {},
   "outputs": [
    {
     "name": "stdout",
     "output_type": "stream",
     "text": [
      "X_train: [[50.  0.  1.  1.  0.  0.]\n",
      " [35.  1.  0.  0.  1.  0.]\n",
      " [51.  1.  0.  1.  0.  0.]\n",
      " ...\n",
      " [27.  1.  0.  0.  0.  1.]\n",
      " [41.  1.  0.  0.  1.  0.]\n",
      " [20.  1.  0.  0.  0.  1.]]\n",
      "y_train: [1, 1, 1, 0, 0, 0, 0, 1, 0, 0, 1, 0, 1, 0, 0, 0, 1, 1, 1, 1, 1, 1, 0, 0, 0, 0, 0, 1, 0, 0, 0, 0, 0, 0, 0, 1, 0, 0, 0, 1, 0, 0, 0, 0, 0, 0, 0, 0, 0, 0, 0, 0, 0, 0, 1, 0, 0, 1, 0, 0, 1, 0, 0, 0, 0, 0, 0, 1, 0, 0, 0, 0, 0, 1, 0, 1, 0, 0, 0, 1, 1, 1, 1, 1, 1, 1, 0, 0, 1, 0, 0, 1, 0, 0, 1, 0, 0, 0, 1, 1, 0, 1, 0, 0, 1, 0, 0, 0, 1, 1, 1, 1, 0, 1, 0, 0, 0, 1, 0, 0, 0, 0, 0, 1, 0, 1, 0, 0, 1, 0, 0, 0, 1, 0, 1, 1, 1, 0, 1, 0, 1, 0, 0, 1, 1, 0, 0, 1, 1, 0, 1, 1, 0, 0, 0, 0, 1, 0, 1, 0, 1, 1, 0, 1, 0, 0, 0, 1, 1, 0, 0, 0, 1, 0, 1, 0, 1, 0, 0, 0, 1, 0, 1, 0, 0, 1, 0, 0, 0, 0, 0, 0, 1, 0, 0, 0, 1, 1, 0, 0, 0, 0, 1, 1, 1, 0, 0, 0, 1, 1, 0, 0, 0, 0, 0, 0, 0, 1, 0, 1, 1, 0, 0, 0, 1, 0, 0, 0, 0, 0, 0, 1, 0, 1, 1, 0, 1, 0, 1, 0, 1, 1, 1, 1, 0, 0, 0, 1, 0, 0, 0, 0, 0, 0, 1, 0, 1, 0, 1, 0, 1, 0, 1, 1, 0, 1, 1, 0, 0, 0, 1, 0, 0, 1, 1, 0, 1, 0, 0, 0, 0, 1, 0, 0, 1, 0, 0, 0, 0, 1, 1, 1, 0, 1, 0, 0, 1, 0, 1, 0, 0, 0, 0, 0, 1, 0, 0, 1, 0, 0, 0, 0, 0, 0, 1, 1, 0, 1, 0, 1, 1, 1, 0, 1, 0, 0, 0, 0, 0, 0, 1, 1, 0, 0, 1, 0, 1, 1, 1, 1, 0, 0, 1, 0, 1, 1, 1, 1, 1, 1, 0, 0, 0, 1, 0, 1, 1, 1, 0, 0, 1, 1, 1, 0, 1, 0, 0, 1, 0, 0, 1, 1, 1, 1, 0, 0, 0, 0, 0, 0, 0, 1, 0, 1, 1, 0, 1, 1, 0, 0, 0, 0, 1, 1, 0, 0, 0, 0, 0, 0, 0, 1, 1, 0, 1, 0, 0, 1, 0, 0, 1, 0, 0, 0, 0, 0, 0, 0, 0, 0, 0, 0, 0, 0, 0, 1, 0, 0, 0, 0, 0, 0, 0, 1, 1, 0, 0, 0, 1, 0, 0, 0, 1, 1, 1, 1, 1, 0, 0, 1, 1, 0, 0, 1, 0, 0, 1, 1, 0, 0, 0, 1, 0, 1, 1, 0, 1, 0, 1, 1, 1, 1, 0, 0, 1, 0, 1, 1, 1, 0, 1, 1, 1, 0, 0, 0, 1, 0, 0, 0, 1, 0, 0, 0, 1, 1, 1, 1, 0]\n",
      "[0]\n",
      "[[0.8921472 0.1078528]]\n"
     ]
    }
   ],
   "source": [
    "import pandas as pd\n",
    "import numpy as np\n",
    "import math\n",
    "from sklearn.linear_model import LogisticRegression\n",
    "from sklearn.preprocessing import OneHotEncoder\n",
    "from sklearn.model_selection import train_test_split\n",
    "\n",
    "# read the data from csv file\n",
    "data = pd.read_csv('train.csv').T.to_dict()\n",
    "\n",
    "X_categorical = []\n",
    "X_age = []\n",
    "y = []\n",
    "\n",
    "for idx in data:\n",
    "    info = data[idx]\n",
    "    sex = info['Sex']\n",
    "    p_class = info['Pclass']\n",
    "    survived = info['Survived']\n",
    "    age = info['Age']\n",
    "    # don't use data if age is absent\n",
    "    if not math.isnan(age):\n",
    "        X_categorical.append([sex, p_class])\n",
    "        X_age.append([age])\n",
    "        y.append(survived)\n",
    "\n",
    "# Use one hot encoding to transform the categorical data:\n",
    "enc = OneHotEncoder()\n",
    "enc.fit(X_categorical)\n",
    "features = enc.transform(X_categorical).toarray()\n",
    "\n",
    "# Combine the age vector with the transformed matrix\n",
    "X = np.hstack((X_age, features))\n",
    "\n",
    "# split data into train and test set\n",
    "X_train, X_test, y_train, y_test = train_test_split(X, y, test_size=0.30, random_state=40)\n",
    "\n",
    "print('X_train:', X_train)\n",
    "print('y_train:', y_train)\n",
    "\n",
    "# Use logistic regression to fit the model\n",
    "clf = LogisticRegression().fit(X_train, y_train)\n",
    "\n",
    "# Print out the prediction\n",
    "print(clf.predict([[20,0,1,0,0,1]]))\n",
    "print(clf.predict_proba([[20,0,1,0,0,1]]))\n"
   ]
  },
  {
   "cell_type": "code",
   "execution_count": 149,
   "metadata": {},
   "outputs": [
    {
     "name": "stdout",
     "output_type": "stream",
     "text": [
      "[0]\n",
      "[[0.89927105 0.10072895]]\n"
     ]
    }
   ],
   "source": [
    "from sklearn.naive_bayes import MultinomialNB\n",
    "\n",
    "nb = MultinomialNB()\n",
    "nb.fit(X_train, y_train)\n",
    "\n",
    "print(nb.predict([[20,0,1,0,0,1]]))\n",
    "print(nb.predict_proba([[20,0,1,0,0,1]]))"
   ]
  },
  {
   "cell_type": "code",
   "execution_count": 143,
   "metadata": {},
   "outputs": [
    {
     "name": "stdout",
     "output_type": "stream",
     "text": [
      "logistic regression accuracy: 0.813953488372093\n",
      "logistic regression f1 score: 0.7802197802197802\n",
      "naive bayes accuracy: 0.786046511627907\n",
      "naive bayes f1 score: 0.7415730337078651\n"
     ]
    }
   ],
   "source": [
    "from sklearn.metrics import f1_score\n",
    "from sklearn.metrics import accuracy_score\n",
    "\n",
    "y_pred_logistic_reg = clf.predict(X_test)\n",
    "y_pred_naive_bayes = nb.predict(X_test)\n",
    "\n",
    "print(f'logistic regression accuracy: {accuracy_score(y_test, y_pred_logistic_reg)}')\n",
    "print(f'logistic regression f1 score: {f1_score(y_test, y_pred_logistic_reg)}')\n",
    "print(f'naive bayes accuracy: {accuracy_score(y_test, y_pred_naive_bayes)}')\n",
    "print(f'naive bayes f1 score: {f1_score(y_test, y_pred_naive_bayes)}')"
   ]
  },
  {
   "cell_type": "code",
   "execution_count": null,
   "metadata": {},
   "outputs": [],
   "source": []
  }
 ],
 "metadata": {
  "kernelspec": {
   "display_name": "Python 3",
   "language": "python",
   "name": "python3"
  },
  "language_info": {
   "codemirror_mode": {
    "name": "ipython",
    "version": 3
   },
   "file_extension": ".py",
   "mimetype": "text/x-python",
   "name": "python",
   "nbconvert_exporter": "python",
   "pygments_lexer": "ipython3",
   "version": "3.8.3"
  }
 },
 "nbformat": 4,
 "nbformat_minor": 4
}
